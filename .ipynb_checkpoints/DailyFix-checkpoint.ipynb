{
 "cells": [
  {
   "cell_type": "code",
   "execution_count": 91,
   "metadata": {},
   "outputs": [
    {
     "name": "stdout",
     "output_type": "stream",
     "text": [
      "[[ 0.5  -1.  ]\n",
      " [ 0.    0.75]]\n",
      "transpose numpy:\n",
      "  [[-0.5]\n",
      " [ 1.5]]\n",
      "transpose T operator:\n",
      " [[-0.5]\n",
      " [ 1.5]]\n",
      "[[[1. 1. 1.]\n",
      "  [1. 1. 1.]]]\n"
     ]
    }
   ],
   "source": [
    "%config IPCompleter.greedy=True\n",
    "import numpy as np\n",
    "\n",
    "# Matrix multiplications\n",
    "A = np.mat([[.5,-1],[0,.75]])\n",
    "print(A)\n",
    "v = np.mat([3,2])\n",
    "#print(v.shape)\n",
    "#print(np.transpose(v))\n",
    "#print(np.transpose(v).shape)\n",
    "\n",
    "print('transpose numpy:\\n ' , A*np.transpose(v))\n",
    "print('transpose T operator:\\n', A*v.T)\n",
    "\n",
    "# okay 3D array of ones...\n",
    "x = np.ones((1, 2, 3))\n",
    "print(x)"
   ]
  },
  {
   "cell_type": "code",
   "execution_count": 1,
   "metadata": {},
   "outputs": [
    {
     "ename": "NameError",
     "evalue": "name 'np' is not defined",
     "output_type": "error",
     "traceback": [
      "\u001b[0;31m---------------------------------------------------------------------------\u001b[0m",
      "\u001b[0;31mNameError\u001b[0m                                 Traceback (most recent call last)",
      "\u001b[0;32m<ipython-input-1-243c659b549e>\u001b[0m in \u001b[0;36m<module>\u001b[0;34m()\u001b[0m\n\u001b[1;32m      1\u001b[0m \u001b[0;31m# compute the identity matrix\u001b[0m\u001b[0;34m\u001b[0m\u001b[0;34m\u001b[0m\u001b[0m\n\u001b[0;32m----> 2\u001b[0;31m \u001b[0mA\u001b[0m \u001b[0;34m=\u001b[0m \u001b[0mnp\u001b[0m\u001b[0;34m.\u001b[0m\u001b[0mmat\u001b[0m\u001b[0;34m(\u001b[0m\u001b[0;34m[\u001b[0m\u001b[0;34m[\u001b[0m\u001b[0;36m1\u001b[0m\u001b[0;34m,\u001b[0m\u001b[0;36m1\u001b[0m\u001b[0;34m,\u001b[0m\u001b[0;36m3\u001b[0m\u001b[0;34m]\u001b[0m\u001b[0;34m,\u001b[0m\u001b[0;34m[\u001b[0m\u001b[0;36m1\u001b[0m\u001b[0;34m,\u001b[0m\u001b[0;36m2\u001b[0m\u001b[0;34m,\u001b[0m\u001b[0;36m4\u001b[0m\u001b[0;34m]\u001b[0m\u001b[0;34m,\u001b[0m\u001b[0;34m[\u001b[0m\u001b[0;36m1\u001b[0m\u001b[0;34m,\u001b[0m\u001b[0;36m1\u001b[0m\u001b[0;34m,\u001b[0m\u001b[0;36m2\u001b[0m\u001b[0;34m]\u001b[0m\u001b[0;34m]\u001b[0m\u001b[0;34m)\u001b[0m\u001b[0;34m\u001b[0m\u001b[0m\n\u001b[0m",
      "\u001b[0;31mNameError\u001b[0m: name 'np' is not defined"
     ]
    }
   ],
   "source": [
    "# compute the identity matrix\n",
    "A = np.mat([[1,1,3],[1,2,4],[1,1,2]])"
   ]
  },
  {
   "cell_type": "code",
   "execution_count": 90,
   "metadata": {},
   "outputs": [
    {
     "name": "stdout",
     "output_type": "stream",
     "text": [
      "[[[1. 1. 1.]\n",
      "  [1. 1. 1.]]]\n",
      "[[ 0.5  -1.  ]\n",
      " [ 0.    0.75]]\n",
      "The shape of v is:  (1, 2)\n",
      "transpose v using numpy:\n",
      "  [[-0.5]\n",
      " [ 1.5]]\n",
      "or transpose using T operator:\n",
      " [[-0.5]\n",
      " [ 1.5]]\n",
      "=============\n",
      "v2 is: \n",
      " [[-5.]\n",
      " [ 3.]]\n",
      "=============\n",
      "A * B [[ 1.  0.]\n",
      " [-4.  8.]]\n"
     ]
    }
   ],
   "source": [
    "##### %config IPCompleter.greedy=True\n",
    "import numpy as np\n",
    "\n",
    "# okay 3D array of ones...\n",
    "x = np.ones((1, 2, 3))\n",
    "print(x)\n",
    "\n",
    "# Matrix multiplications\n",
    "A = np.mat([[.5,-1],[0,.75]])\n",
    "print(A)\n",
    "v = np.mat([3,2])\n",
    "print('The shape of v is: ' , v.shape)\n",
    "print('transpose v using numpy:\\n ' , A*np.transpose(v))\n",
    "print('or transpose using T operator:\\n', A*v.T)\n",
    "print('=============')\n",
    "v2 = np.mat([-2,4])\n",
    "print('v2 is: \\n', A*v2.T)\n",
    "print('=============')\n",
    "A = np.mat([[1,0],[0,8]])\n",
    "B = np.mat([[1,0],[-.5,1]])\n",
    "print('A * B', A*B)"
   ]
  },
  {
   "cell_type": "code",
   "execution_count": 42,
   "metadata": {},
   "outputs": [
    {
     "name": "stdout",
     "output_type": "stream",
     "text": [
      "[[1, 1], [2, 1]]\n",
      "Det M1:  -1.0\n",
      "[[1, 1], [2, 2]]\n",
      "Det M2:  0.0\n",
      "Det M3:  5.000000000000001\n",
      "Det M4:  1.0\n",
      "Det M5:  -1.4802973661668748e-16\n",
      "Det M6:  5.921189464667507e-15\n"
     ]
    }
   ],
   "source": [
    "import numpy as np\n",
    "# compute the determinant of a matrix:  \n",
    "# are linearly independent if and only if the determinant \n",
    "# of the matrix formed by taking the vectors as its columns is non-zero.\n",
    "# \n",
    "M1 = [[1,1],[2,1]]\n",
    "print(M1)\n",
    "print ('Det M1: ' , np.linalg.det(M1))\n",
    "\n",
    "M2 = [[1,1],[2,2]]\n",
    "print(M2)\n",
    "print ('Det M2: ' , np.linalg.det(M2))\n",
    "\n",
    "\n",
    "M3 = [[1,2],[-2,1]]\n",
    "print('Det M3: ', np.linalg.det(M3))\n",
    "\n",
    "M4 = [[1,0,0],[1,1,0], [1,0,1] ]\n",
    "print('Det M4: ', np.linalg.det(M4))\n",
    "\n",
    "M5 = [[1,0,1],[2,-1,1], [-3,1,-2] ]\n",
    "print('Det M5: ', np.linalg.det(M5))\n",
    "\n",
    "\n",
    "M6 = [[1,2,-1],[3,-4,5], [1,-8,7] ]\n",
    "print('Det M6: ', np.linalg.det(M6))"
   ]
  },
  {
   "cell_type": "code",
   "execution_count": 5,
   "metadata": {},
   "outputs": [
    {
     "name": "stdout",
     "output_type": "stream",
     "text": [
      "[[5 4 5 3]\n",
      " [1 2 4 5]\n",
      " [2 3 1 0]]\n",
      "[[-5 -5 -5 -5]\n",
      " [-5 -5 -5 -5]\n",
      " [-5 -5 -5 -1]]\n",
      "-5\n",
      "-5\n",
      "-5\n",
      "-5\n"
     ]
    }
   ],
   "source": [
    "# Conditionally set the values of a matrix \n",
    "import numpy as np\n",
    "\n",
    "# generat some values and store as matrix\n",
    "A = np.random.randint(0,6, size=(3,4))\n",
    "# check the initial values\n",
    "print (A)\n",
    "A = np.where(A<1,-1,-5 )\n",
    "print (A)\n"
   ]
  },
  {
   "cell_type": "code",
   "execution_count": 8,
   "metadata": {},
   "outputs": [
    {
     "name": "stdout",
     "output_type": "stream",
     "text": [
      "[[3 0 0 0]\n",
      " [2 1 5 0]\n",
      " [5 5 0 1]]\n",
      "3\n",
      "0\n",
      "0\n",
      "0\n"
     ]
    }
   ],
   "source": [
    "# prints the columns of first row\n",
    "A = np.random.randint(0,6, size=(3,4))\n",
    "print(A)\n",
    "for i in range(A.shape[1]):\n",
    "    #print(i)\n",
    "    print(A[0,i])"
   ]
  },
  {
   "cell_type": "code",
   "execution_count": 22,
   "metadata": {},
   "outputs": [
    {
     "name": "stdout",
     "output_type": "stream",
     "text": [
      "17.0293863659\n",
      "18.0\n"
     ]
    }
   ],
   "source": [
    "# mag of sum\n",
    "a = np.array([3,0,4])\n",
    "b = np.array([0,5,12])\n",
    "n = np.linalg.norm(a+b)\n",
    "print(n)\n",
    "\n",
    "# sum of mag\n",
    "nb = np.linalg.norm(b)\n",
    "na = np.linalg.norm(a)\n",
    "\n",
    "print(nb+na)\n"
   ]
  },
  {
   "cell_type": "code",
   "execution_count": 30,
   "metadata": {},
   "outputs": [
    {
     "name": "stdout",
     "output_type": "stream",
     "text": [
      "5.0\n",
      "1.2\n",
      "6.0\n",
      "()\n"
     ]
    }
   ],
   "source": [
    "# mag of sum\n",
    "s = np.array([10,5,-6])\n",
    "r = np.array([3,0,4])\n",
    "rnorm = np.linalg.norm(r)\n",
    "print(rnorm)\n",
    "aproj = np.dot(s,r)/ rnorm\n",
    "print(aproj)\n",
    "res =aproj * rnorm \n",
    "print(res)\n",
    "print(res.shape)"
   ]
  }
 ],
 "metadata": {
  "kernelspec": {
   "display_name": "Python 3",
   "language": "python",
   "name": "python3"
  },
  "language_info": {
   "codemirror_mode": {
    "name": "ipython",
    "version": 3
   },
   "file_extension": ".py",
   "mimetype": "text/x-python",
   "name": "python",
   "nbconvert_exporter": "python",
   "pygments_lexer": "ipython3",
   "version": "3.6.5"
  }
 },
 "nbformat": 4,
 "nbformat_minor": 2
}
