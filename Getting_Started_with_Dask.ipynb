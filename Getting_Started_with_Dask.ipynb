{
 "cells": [
  {
   "cell_type": "markdown",
   "metadata": {},
   "source": [
    "# Getting Started with Dask\n",
    "\n",
    "* Arrays: parallel Numpy\n",
    "* Dataframes: parallel Pandas\n",
    "* Machine Learning: parallel Scikit-Learn\n",
    "\n"
   ]
  },
  {
   "cell_type": "code",
   "execution_count": 2,
   "metadata": {},
   "outputs": [],
   "source": [
    "import dask.dataframe as dd\n",
    "import pandas as pd\n",
    "import numpy as np\n",
    "import glob\n",
    "import os\n",
    "import psutil\n"
   ]
  },
  {
   "cell_type": "code",
   "execution_count": 3,
   "metadata": {},
   "outputs": [
    {
     "name": "stdout",
     "output_type": "stream",
     "text": [
      "CPU times: user 6.63 s, sys: 1.08 s, total: 7.7 s\n",
      "Wall time: 8.19 s\n"
     ]
    }
   ],
   "source": [
    "%time temp = pd.read_csv(\"/Users/stewarta/Documents/DATA/Home Data/bureau_balance.csv\")"
   ]
  },
  {
   "cell_type": "code",
   "execution_count": 5,
   "metadata": {},
   "outputs": [
    {
     "name": "stdout",
     "output_type": "stream",
     "text": [
      "CPU times: user 25.2 ms, sys: 10 ms, total: 35.2 ms\n",
      "Wall time: 36.6 ms\n"
     ]
    }
   ],
   "source": [
    "%time df = dd.read_csv(\"/Users/stewarta/Documents/DATA/Home Data/bureau_balance.csv\")"
   ]
  },
  {
   "cell_type": "code",
   "execution_count": 2,
   "metadata": {},
   "outputs": [
    {
     "data": {
      "text/plain": [
       "6611.87109375"
      ]
     },
     "execution_count": 2,
     "metadata": {},
     "output_type": "execute_result"
    }
   ],
   "source": [
    "# print(psutil.virtual_memory().available )\n",
    "sys = psutil.virtual_memory().available\n",
    "print('Avail System Memory: ' , sys / (1024**2), 'MB')"
   ]
  },
  {
   "cell_type": "code",
   "execution_count": 5,
   "metadata": {},
   "outputs": [
    {
     "name": "stdout",
     "output_type": "stream",
     "text": [
      "Total File:  2559.3644790649414 MB\n"
     ]
    }
   ],
   "source": [
    "data_path = '/Users/stewarta/Documents/DATA/Home Data'\n",
    "total = 0 \n",
    "for name in glob.glob(data_path + '/*'):\n",
    "    size = os.path.getsize(name)# size of file\n",
    "    total = total + size\n",
    "print('Total Size File: ' , total / (1024**2), 'MB')"
   ]
  },
  {
   "cell_type": "code",
   "execution_count": 28,
   "metadata": {},
   "outputs": [
    {
     "name": "stdout",
     "output_type": "stream",
     "text": [
      "1min 18s ± 0 ns per loop (mean ± std. dev. of 1 run, 1 loop each)\n"
     ]
    }
   ],
   "source": [
    "%%timeit -n 1 -r 1 -t x = range(100)\n",
    "df_acc = pd.read_csv('/Users/stewarta/Documents/DATA/Home Data/application_train.csv')\n",
    "df_acc = pd.read_csv('/Users/stewarta/Documents/DATA/Home Data/application_train.csv')\n",
    "df_bur = pd.read_csv('/Users/stewarta/Documents/DATA/Home Data/bureau.csv')\n",
    "df_bba = pd.read_csv('/Users/stewarta/Documents/DATA/Home Data/bureau_balance.csv')\n",
    "df_pap = pd.read_csv('/Users/stewarta/Documents/DATA/Home Data/previous_application.csv')\n",
    "df_pca = pd.read_csv('/Users/stewarta/Documents/DATA/Home Data/pos_cash_balance.csv')\n",
    "df_inp = pd.read_csv('/Users/stewarta/Documents/DATA/Home Data/installments_payments.csv')\n",
    "df_ccb = pd.read_csv('/Users/stewarta/Documents/DATA/Home Data/credit_card_balance.csv')"
   ]
  },
  {
   "cell_type": "code",
   "execution_count": 41,
   "metadata": {},
   "outputs": [
    {
     "name": "stdout",
     "output_type": "stream",
     "text": [
      "116 ms ± 0 ns per loop (mean ± std. dev. of 1 run, 1 loop each)\n"
     ]
    }
   ],
   "source": [
    "%%timeit -n 1 -r 1 -t x = range(10) \n",
    "dd_acc = dd.read_csv('/Users/stewarta/Documents/DATA/Home Data/application_train.csv')\n",
    "dd_acc.memory_usage(deep=True,index=True).sum()\n",
    "#dd_bur = dd.read_csv('/Users/stewarta/Documents/DATA/Home Data/bureau.csv')\n",
    "#dd_bba = dd.read_csv('/Users/stewarta/Documents/DATA/Home Data/bureau_balance.csv')\n",
    "#dd_pap = dd.read_csv('/Users/stewarta/Documents/DATA/Home Data/previous_application.csv')\n",
    "#dd_pca = dd.read_csv('/Users/stewarta/Documents/DATA/Home Data/pos_cash_balance.csv')\n",
    "#dd_inp = dd.read_csv('/Users/stewarta/Documents/DATA/Home Data/installments_payments.csv')\n",
    "#dd_ccb = dd.read_csv('/Users/stewarta/Documents/DATA/Home Data/credit_card_balance.csv')"
   ]
  },
  {
   "cell_type": "code",
   "execution_count": 7,
   "metadata": {},
   "outputs": [
    {
     "name": "stdout",
     "output_type": "stream",
     "text": [
      "Total df:  7947.450077056885 MB\n"
     ]
    }
   ],
   "source": [
    "total_df = 0 \n",
    "total_df = total_df + df_acc.memory_usage(deep=True,index=True).sum()\n",
    "total_df = total_df + df_bur.memory_usage(deep=True,index=True).sum()\n",
    "total_df = total_df + df_bba.memory_usage(deep=True,index=True).sum()\n",
    "total_df = total_df + df_pap.memory_usage(deep=True,index=True).sum()\n",
    "total_df = total_df + df_pca.memory_usage(deep=True,index=True).sum()\n",
    "total_df = total_df + df_inp.memory_usage(deep=True,index=True).sum()\n",
    "total_df = total_df + df_ccb.memory_usage(deep=True,index=True).sum()\n",
    "print('Total df: ' , total_df / (1024**2), 'MB')"
   ]
  },
  {
   "cell_type": "code",
   "execution_count": 38,
   "metadata": {},
   "outputs": [
    {
     "ename": "NameError",
     "evalue": "name 'dd_acc' is not defined",
     "output_type": "error",
     "traceback": [
      "\u001b[0;31m---------------------------------------------------------------------------\u001b[0m",
      "\u001b[0;31mNameError\u001b[0m                                 Traceback (most recent call last)",
      "\u001b[0;32m<ipython-input-38-67c71d913c9a>\u001b[0m in \u001b[0;36m<module>\u001b[0;34m()\u001b[0m\n\u001b[1;32m      1\u001b[0m \u001b[0mtotal_dd\u001b[0m \u001b[0;34m=\u001b[0m \u001b[0;36m0\u001b[0m\u001b[0;34m\u001b[0m\u001b[0m\n\u001b[0;32m----> 2\u001b[0;31m \u001b[0mtotal_dd\u001b[0m \u001b[0;34m=\u001b[0m \u001b[0mtotal_dd\u001b[0m \u001b[0;34m+\u001b[0m \u001b[0mdd_acc\u001b[0m\u001b[0;34m.\u001b[0m\u001b[0mmemory_usage\u001b[0m\u001b[0;34m(\u001b[0m\u001b[0mdeep\u001b[0m\u001b[0;34m=\u001b[0m\u001b[0;32mTrue\u001b[0m\u001b[0;34m,\u001b[0m\u001b[0mindex\u001b[0m\u001b[0;34m=\u001b[0m\u001b[0;32mTrue\u001b[0m\u001b[0;34m)\u001b[0m\u001b[0;34m.\u001b[0m\u001b[0msum\u001b[0m\u001b[0;34m(\u001b[0m\u001b[0;34m)\u001b[0m\u001b[0;34m\u001b[0m\u001b[0m\n\u001b[0m\u001b[1;32m      3\u001b[0m \u001b[0;31m#total_dd = total_dd + dd_bur.memory_usage(deep=True,index=True).sum()\u001b[0m\u001b[0;34m\u001b[0m\u001b[0;34m\u001b[0m\u001b[0m\n\u001b[1;32m      4\u001b[0m \u001b[0;31m#total_dd = total_dd + dd_bba.memory_usage(deep=True,index=True).sum()\u001b[0m\u001b[0;34m\u001b[0m\u001b[0;34m\u001b[0m\u001b[0m\n\u001b[1;32m      5\u001b[0m \u001b[0;31m#total_dd = total_dd + dd_pap.memory_usage(deep=True,index=True).sum()\u001b[0m\u001b[0;34m\u001b[0m\u001b[0;34m\u001b[0m\u001b[0m\n",
      "\u001b[0;31mNameError\u001b[0m: name 'dd_acc' is not defined"
     ]
    }
   ],
   "source": [
    "total_dd = 0 \n",
    "total_dd = total_dd + dd_acc.memory_usage(deep=True,index=True).sum()\n",
    "#total_dd = total_dd + dd_bur.memory_usage(deep=True,index=True).sum()\n",
    "#total_dd = total_dd + dd_bba.memory_usage(deep=True,index=True).sum()\n",
    "#total_dd = total_dd + dd_pap.memory_usage(deep=True,index=True).sum()\n",
    "#total_dd = total_dd + dd_pca.memory_usage(deep=True,index=True).sum()\n",
    "#total_dd = total_dd + dd_inp.memory_usage(deep=True,index=True).sum()\n",
    "#total_dd = total_dd + dd_ccb.memory_usage(deep=True,index=True).sum()\n",
    "print('Total dd: ' , total_dd / (1024**2), 'MB')"
   ]
  }
 ],
 "metadata": {
  "kernelspec": {
   "display_name": "Python [conda env:salliemae_env]",
   "language": "python",
   "name": "conda-env-salliemae_env-py"
  },
  "language_info": {
   "codemirror_mode": {
    "name": "ipython",
    "version": 3
   },
   "file_extension": ".py",
   "mimetype": "text/x-python",
   "name": "python",
   "nbconvert_exporter": "python",
   "pygments_lexer": "ipython3",
   "version": "3.6.4"
  }
 },
 "nbformat": 4,
 "nbformat_minor": 2
}
