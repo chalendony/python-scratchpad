{
 "cells": [
  {
   "cell_type": "code",
   "execution_count": 42,
   "metadata": {},
   "outputs": [
    {
     "name": "stdout",
     "output_type": "stream",
     "text": [
      "A [2 4 5 6]\n",
      "Shape of A.T:  (4,)\n",
      "Shape of A.transpose():  (4,)\n",
      "B:  [1 3 2 1]\n",
      "Shape of B:  (4,)\n",
      "A2 [[2 4 5 6]]\n",
      "Shape of A2:  (1, 4)\n",
      "Shape of A2.T:  (4, 1)\n",
      "C  [[2 4 5 6]]\n",
      "D  [[1 3 2 1]]\n",
      "D_t  [[1]\n",
      " [3]\n",
      " [2]\n",
      " [1]]\n",
      "shape C  (1, 4)\n",
      "shape D  (1, 4)\n",
      "shape D transpose;  (4, 1)\n",
      "C @ D_t [[ 2  4  5  6]\n",
      " [ 6 12 15 18]\n",
      " [ 4  8 10 12]\n",
      " [ 2  4  5  6]]\n",
      "prod2 [[30]]\n",
      "prod3 [[30]]\n",
      "prod4 [[30]]\n",
      "shape C1  (3, 2)\n",
      "shape c2  (3, 3)\n"
     ]
    }
   ],
   "source": [
    "import numpy as np\n",
    "\n",
    "# NOTE: transpose np.array does not yield difference in shape if you do not use the square brackets in the arrgument\n",
    "A = np.array([2,4,5,6])\n",
    "B = np.array([1,3,2,1])\n",
    "print('A',  A)\n",
    "print('Shape of A.T: ', A.T.shape)\n",
    "print('Shape of A.transpose(): ', np.transpose(A).shape)\n",
    "print('B: ' ,B)\n",
    "print('Shape of B: ', B.shape)\n",
    "\n",
    "# create a 2D using square bracket in the argument\n",
    "A2 = np.array([[2,4,5,6]])\n",
    "print('A2',  A2)\n",
    "print('Shape of A2: ', A2.shape)\n",
    "print('Shape of A2.T: ', A2.T.shape)\n",
    "\n",
    "\n",
    "\n",
    "# when treated as a matrix the transpose works as expected\n",
    "C = np.mat([2,4,5,6])\n",
    "D = np.mat([1,3,2,1])\n",
    "D_t = np.transpose(np.mat([1,3,2,1]))\n",
    "print('C ' , C)\n",
    "print('D ' , D)\n",
    "print('D_t ' , D_t)\n",
    "print('shape C ' , C.shape)\n",
    "print('shape D ' , D.shape)\n",
    "print('shape D transpose; ' , D_t.shape)\n",
    "\n",
    "# the multiplication operators are not the same at all!\n",
    "prod = np.multiply(C,D_t)\n",
    "print('C @ D_t', prod)\n",
    "\n",
    "prod2 = C*D_t\n",
    "print('prod2', prod2 )\n",
    "\n",
    "prod3 = C@D_t\n",
    "print('prod3', prod3 )\n",
    "\n",
    "prod4 = np.dot(C, D_t)\n",
    "print('prod4', prod4)\n",
    "\n",
    "\n",
    "C1 = np.mat([[1,4], [2,0], [3,1]])\n",
    "C2 = np.mat([[1,0,1], [1,1,0], [0,1,1]])\n",
    "print('shape C1 ' , C1.shape)\n",
    "print('shape c2 ' , C2.shape)\n"
   ]
  },
  {
   "cell_type": "markdown",
   "metadata": {},
   "source": [
    "TODO - FUN FACTOR:\n",
    "\n",
    "- Generalize this function for a matrix of an arbitrary size square matrix. \n",
    "- Print the matrix when is fails to be singular\n",
    "\n",
    "Example function that will test if a 4×4 matrix is singular, i.e. to determine if an \n",
    "inverse exists, before calculating it.\n",
    "\n",
    "You shall use the method of converting a matrix to echelon form, and testing if this fails by leaving zeros that can’t be removed on the leading diagonal."
   ]
  },
  {
   "cell_type": "code",
   "execution_count": null,
   "metadata": {},
   "outputs": [],
   "source": [
    "\n",
    "import numpy as np\n",
    "\n",
    "# Our function will go through the matrix replacing each row in order turning it into echelon form.\n",
    "# If at any point it fails because it can't put a 1 in the leading diagonal,\n",
    "# we will return the value True, otherwise, we will return False.\n",
    "# There is no need to edit this function.\n",
    "def isSingular(A) :\n",
    "    B = np.array(A, dtype=np.float_) # Make B as a copy of A, since we're going to alter it's values.\n",
    "    try:\n",
    "        fixRowZero(B)\n",
    "        fixRowOne(B)\n",
    "        fixRowTwo(B)\n",
    "        fixRowThree(B)\n",
    "    except MatrixIsSingular:\n",
    "        return True\n",
    "    return False\n",
    "\n",
    "# This next line defines our error flag. For when things go wrong if the matrix is singular.\n",
    "# There is no need to edit this line.\n",
    "class MatrixIsSingular(Exception): pass\n",
    "\n",
    "# For Row Zero, all we require is the first element is equal to 1.\n",
    "# We'll divide the row by the value of A[0, 0].\n",
    "# This will get us in trouble though if A[0, 0] equals 0, so first we'll test for that,\n",
    "# and if this is true, we'll add one of the lower rows to the first one before the division.\n",
    "# We'll repeat the test going down each lower row until we can do the division.\n",
    "# There is no need to edit this function.\n",
    "def fixRowZero(A) :\n",
    "    if A[0,0] == 0 :\n",
    "        A[0] = A[0] + A[1]\n",
    "    if A[0,0] == 0 :\n",
    "        A[0] = A[0] + A[2]\n",
    "    if A[0,0] == 0 :\n",
    "        A[0] = A[0] + A[3]\n",
    "    if A[0,0] == 0 :\n",
    "        raise MatrixIsSingular()\n",
    "    A[0] = A[0] / A[0,0]\n",
    "    return A\n",
    "\n",
    "# First we'll set the sub-diagonal elements to zero, i.e. A[1,0].\n",
    "# Next we want the diagonal element to be equal to one.\n",
    "# We'll divide the row by the value of A[1, 1].\n",
    "# Again, we need to test if this is zero.\n",
    "# If so, we'll add a lower row and repeat setting the sub-diagonal elements to zero.\n",
    "# There is no need to edit this function.\n",
    "def fixRowOne(A) :\n",
    "    A[1] = A[1] - A[1,0] * A[0]\n",
    "    if A[1,1] == 0 :\n",
    "        A[1] = A[1] + A[2]\n",
    "        A[1] = A[1] - A[1,0] * A[0]\n",
    "    if A[1,1] == 0 :\n",
    "        A[1] = A[1] + A[3]\n",
    "        A[1] = A[1] - A[1,0] * A[0]\n",
    "    if A[1,1] == 0 :\n",
    "        raise MatrixIsSingular()\n",
    "    A[1] = A[1] / A[1,1]\n",
    "    return A\n",
    "\n",
    "# This is the first function that you should complete.\n",
    "# Follow the instructions inside the function at each comment.\n",
    "def fixRowTwo(A) :\n",
    "    # Insert code below to set the sub-diagonal elements of row two to zero (there are two of them).\n",
    "    A[2] = A[2] - A[2,0] * A[0]\n",
    "    A[2] = A[2] - A[2,1] * A[1]\n",
    "   \n",
    "    \n",
    "    # Next we'll test that the diagonal element is not zero.\n",
    "    if A[2,2] == 0:\n",
    "              \n",
    "        # Insert code below that adds a lower row to row 2.\n",
    "        A[2] = A[2] + A[3]\n",
    "        # Now repeat your code which sets the sub-diagonal elements to zero.\n",
    "        A[2] = A[2] - A[2,0] * A[0]\n",
    "        A[2] = A[2] - A[2,1] * A[1]\n",
    "        \n",
    "    if A[2,2] == 0:\n",
    "        raise MatrixIsSingular()\n",
    "    # Finally set the diagonal element to one by dividing the whole row by that element.\n",
    "    A[2] = A[2] / A[2,2]\n",
    "    return A\n",
    "\n",
    "# You should also complete this function\n",
    "# Follow the instructions inside the function at each comment.\n",
    "def fixRowThree(A) :\n",
    "    \n",
    "    # Insert code below to set the sub-diagonal elements of row three to zero.\n",
    "    A[3] = A[3] - A[3,0] * A[0]\n",
    "    A[3] = A[3] - A[3,1] * A[1]\n",
    "    A[3] = A[3] - A[3,2] * A[2]\n",
    "    \n",
    "    \n",
    "    # Complete the if statement to test if the diagonal element is zero.\n",
    "    if A[3,3] == 0 : \n",
    "        raise MatrixIsSingular()\n",
    "    # Transform the row to set the diagonal element to one.\n",
    "    A[3] = A[3] / A[3,3]\n",
    "    return A"
   ]
  },
  {
   "cell_type": "code",
   "execution_count": 20,
   "metadata": {},
   "outputs": [
    {
     "name": "stdout",
     "output_type": "stream",
     "text": [
      "The origin A: \n",
      " [[1 1 3 1]\n",
      " [5 2 4 3]\n",
      " [1 1 2 2]\n",
      " [2 4 5 6]]\n",
      "rowsum: \n",
      " [[3 5 7 8]]\n",
      "New row 2 :\n",
      " [[1 1 3 1]\n",
      " [5 2 4 3]\n",
      " [3 5 7 8]\n",
      " [2 4 5 6]]\n"
     ]
    }
   ],
   "source": [
    "import numpy as np\n",
    "# code snippets to add row of a matrix\n",
    "A = np.mat([[1,1,3,1],[5,2,4,3],[1,1,2,2],[2,4,5,6]])\n",
    "print('The origin A: \\n', A)\n",
    "\n",
    "A[2,:] = A[2,:] + A[3,:]\n",
    "print('rowsum: \\n', rowsum)\n",
    "print('New row 2 :\\n', A)"
   ]
  },
  {
   "cell_type": "code",
   "execution_count": 9,
   "metadata": {},
   "outputs": [
    {
     "name": "stdout",
     "output_type": "stream",
     "text": [
      "[[ 0.5  -1.  ]\n",
      " [ 0.    0.75]]\n",
      "transpose numpy:\n",
      "  [[-0.5]\n",
      " [ 1.5]]\n",
      "transpose T operator:\n",
      " [[-0.5]\n",
      " [ 1.5]]\n",
      "[[[1. 1. 1.]\n",
      "  [1. 1. 1.]]]\n"
     ]
    }
   ],
   "source": [
    "%config IPCompleter.greedy=True\n",
    "import numpy as np\n",
    "\n",
    "# Matrix multiplications\n",
    "A = np.mat([[.5,-1],[0,.75]])\n",
    "print(A)\n",
    "v = np.mat([3,2])\n",
    "#print(v.shape)\n",
    "#print(np.transpose(v))\n",
    "#print(np.transpose(v).shape)\n",
    "\n",
    "print('transpose numpy:\\n ' , A*np.transpose(v))\n",
    "print('transpose T operator:\\n', A*v.T)\n",
    "\n",
    "# okay 3D array of ones...\n",
    "x = np.ones((1, 2, 3))\n",
    "print(x)"
   ]
  },
  {
   "cell_type": "code",
   "execution_count": 5,
   "metadata": {},
   "outputs": [
    {
     "name": "stdout",
     "output_type": "stream",
     "text": [
      "Inverse:  Matrix([[0, -1, 2], [-2, 1, 1], [1, 0, -1]])\n",
      "Do I get the indentity:  Matrix([[1, 0, 0], [0, 1, 0], [0, 0, 1]])\n"
     ]
    }
   ],
   "source": [
    "# we can also use the sympy to compute the inverse of a matrix\n",
    "from sympy import *\n",
    "M = Matrix([[1,1,3],[1,2,4],[1,1,2]])\n",
    "M.rref()\n",
    "\n",
    "inverse = M**-1\n",
    "print('Inverse: ' ,inverse)\n",
    "print('Do I get the indentity from M and its inverse? \\n: ' , M * inverse)"
   ]
  },
  {
   "cell_type": "code",
   "execution_count": 23,
   "metadata": {},
   "outputs": [
    {
     "name": "stdout",
     "output_type": "stream",
     "text": [
      "Inverse of A: \n",
      " [[ 0. -1.  2.]\n",
      " [-2.  1.  1.]\n",
      " [ 1. -0. -1.]]\n",
      "Inverse C:  [[-1.50000000e+00  5.00000000e-01  5.00000000e-01]\n",
      " [ 2.00000000e+00  5.55111512e-17 -1.00000000e+00]\n",
      " [ 5.00000000e-01 -5.00000000e-01  5.00000000e-01]]\n",
      "perm :\n",
      " [[0. 1. 0.]\n",
      " [1. 0. 0.]\n",
      " [0. 0. 1.]]\n",
      "lower \n",
      ": [[ 1.          0.          0.        ]\n",
      " [ 0.33333333  1.          0.        ]\n",
      " [ 0.66666667 -1.          1.        ]]\n",
      "upper \n",
      ": [[3.         2.         1.        ]\n",
      " [0.         0.33333333 0.66666667]\n",
      " [0.         0.         2.        ]]\n"
     ]
    }
   ],
   "source": [
    "from scipy.linalg import lu\n",
    "import numpy as np\n",
    "\n",
    "# compute the identity matrix\n",
    "A = np.mat([[1,1,3],[1,2,4],[1,1,2]])\n",
    "B = np.mat([[4,6,2],[3,4,1],[2,8,13]])\n",
    "C = np.mat([[1,1,1],[3,2,1],[2,1,2]])\n",
    "\n",
    "A_inv = np.linalg.inv(A)\n",
    "print('Inverse of A: \\n', A_inv)\n",
    "\n",
    "C_inv = np.linalg.inv(C)\n",
    "print ('Inverse C: ', C_inv)\n",
    "\n",
    "# convert matrix to echelon form\n",
    "p, i, u = lu(C)\n",
    "print('perm :\\n' , p)\n",
    "print('lower \\n:' , i)\n",
    "print('upper \\n:' , u)"
   ]
  },
  {
   "cell_type": "code",
   "execution_count": 90,
   "metadata": {},
   "outputs": [
    {
     "name": "stdout",
     "output_type": "stream",
     "text": [
      "[[[1. 1. 1.]\n",
      "  [1. 1. 1.]]]\n",
      "[[ 0.5  -1.  ]\n",
      " [ 0.    0.75]]\n",
      "The shape of v is:  (1, 2)\n",
      "transpose v using numpy:\n",
      "  [[-0.5]\n",
      " [ 1.5]]\n",
      "or transpose using T operator:\n",
      " [[-0.5]\n",
      " [ 1.5]]\n",
      "=============\n",
      "v2 is: \n",
      " [[-5.]\n",
      " [ 3.]]\n",
      "=============\n",
      "A * B [[ 1.  0.]\n",
      " [-4.  8.]]\n"
     ]
    }
   ],
   "source": [
    "##### %config IPCompleter.greedy=True\n",
    "import numpy as np\n",
    "\n",
    "# okay 3D array of ones...\n",
    "x = np.ones((1, 2, 3))\n",
    "print(x)\n",
    "\n",
    "# Matrix multiplications\n",
    "A = np.mat([[.5,-1],[0,.75]])\n",
    "print(A)\n",
    "v = np.mat([3,2])\n",
    "print('The shape of v is: ' , v.shape)\n",
    "print('transpose v using numpy:\\n ' , A*np.transpose(v))\n",
    "print('or transpose using T operator:\\n', A*v.T)\n",
    "print('=============')\n",
    "v2 = np.mat([-2,4])\n",
    "print('v2 is: \\n', A*v2.T)\n",
    "print('=============')\n",
    "A = np.mat([[1,0],[0,8]])\n",
    "B = np.mat([[1,0],[-.5,1]])\n",
    "print('A * B', A*B)"
   ]
  },
  {
   "cell_type": "code",
   "execution_count": 42,
   "metadata": {},
   "outputs": [
    {
     "name": "stdout",
     "output_type": "stream",
     "text": [
      "[[1, 1], [2, 1]]\n",
      "Det M1:  -1.0\n",
      "[[1, 1], [2, 2]]\n",
      "Det M2:  0.0\n",
      "Det M3:  5.000000000000001\n",
      "Det M4:  1.0\n",
      "Det M5:  -1.4802973661668748e-16\n",
      "Det M6:  5.921189464667507e-15\n"
     ]
    }
   ],
   "source": [
    "import numpy as np\n",
    "# compute the determinant of a matrix:  \n",
    "# are linearly independent if and only if the determinant \n",
    "# of the matrix formed by taking the vectors as its columns is non-zero.\n",
    "# \n",
    "M1 = [[1,1],[2,1]]\n",
    "print(M1)\n",
    "print ('Det M1: ' , np.linalg.det(M1))\n",
    "\n",
    "M2 = [[1,1],[2,2]]\n",
    "print(M2)\n",
    "print ('Det M2: ' , np.linalg.det(M2))\n",
    "\n",
    "\n",
    "M3 = [[1,2],[-2,1]]\n",
    "print('Det M3: ', np.linalg.det(M3))\n",
    "\n",
    "M4 = [[1,0,0],[1,1,0], [1,0,1] ]\n",
    "print('Det M4: ', np.linalg.det(M4))\n",
    "\n",
    "M5 = [[1,0,1],[2,-1,1], [-3,1,-2] ]\n",
    "print('Det M5: ', np.linalg.det(M5))\n",
    "\n",
    "\n",
    "M6 = [[1,2,-1],[3,-4,5], [1,-8,7] ]\n",
    "print('Det M6: ', np.linalg.det(M6))"
   ]
  },
  {
   "cell_type": "code",
   "execution_count": 5,
   "metadata": {},
   "outputs": [
    {
     "name": "stdout",
     "output_type": "stream",
     "text": [
      "[[5 4 5 3]\n",
      " [1 2 4 5]\n",
      " [2 3 1 0]]\n",
      "[[-5 -5 -5 -5]\n",
      " [-5 -5 -5 -5]\n",
      " [-5 -5 -5 -1]]\n",
      "-5\n",
      "-5\n",
      "-5\n",
      "-5\n"
     ]
    }
   ],
   "source": [
    "# Conditionally set the values of a matrix \n",
    "import numpy as np\n",
    "\n",
    "# generat some values and store as matrix\n",
    "A = np.random.randint(0,6, size=(3,4))\n",
    "# check the initial values\n",
    "print (A)\n",
    "A = np.where(A<1,-1,-5 )\n",
    "print (A)\n"
   ]
  },
  {
   "cell_type": "code",
   "execution_count": 8,
   "metadata": {},
   "outputs": [
    {
     "name": "stdout",
     "output_type": "stream",
     "text": [
      "[[3 0 0 0]\n",
      " [2 1 5 0]\n",
      " [5 5 0 1]]\n",
      "3\n",
      "0\n",
      "0\n",
      "0\n"
     ]
    }
   ],
   "source": [
    "# prints the columns of first row\n",
    "A = np.random.randint(0,6, size=(3,4))\n",
    "print(A)\n",
    "for i in range(A.shape[1]):\n",
    "    #print(i)\n",
    "    print(A[0,i])"
   ]
  },
  {
   "cell_type": "code",
   "execution_count": 22,
   "metadata": {},
   "outputs": [
    {
     "name": "stdout",
     "output_type": "stream",
     "text": [
      "17.0293863659\n",
      "18.0\n"
     ]
    }
   ],
   "source": [
    "# mag of sum\n",
    "a = np.array([3,0,4])\n",
    "b = np.array([0,5,12])\n",
    "n = np.linalg.norm(a+b)\n",
    "print(n)\n",
    "\n",
    "# sum of mag\n",
    "nb = np.linalg.norm(b)\n",
    "na = np.linalg.norm(a)\n",
    "\n",
    "print(nb+na)\n"
   ]
  },
  {
   "cell_type": "code",
   "execution_count": 30,
   "metadata": {},
   "outputs": [
    {
     "name": "stdout",
     "output_type": "stream",
     "text": [
      "5.0\n",
      "1.2\n",
      "6.0\n",
      "()\n"
     ]
    }
   ],
   "source": [
    "# mag of sum\n",
    "s = np.array([10,5,-6])\n",
    "r = np.array([3,0,4])\n",
    "rnorm = np.linalg.norm(r)\n",
    "print(rnorm)\n",
    "aproj = np.dot(s,r)/ rnorm\n",
    "print(aproj)\n",
    "res =aproj * rnorm \n",
    "print(res)\n",
    "print(res.shape)"
   ]
  }
 ],
 "metadata": {
  "kernelspec": {
   "display_name": "Python 3",
   "language": "python",
   "name": "python3"
  },
  "language_info": {
   "codemirror_mode": {
    "name": "ipython",
    "version": 3
   },
   "file_extension": ".py",
   "mimetype": "text/x-python",
   "name": "python",
   "nbconvert_exporter": "python",
   "pygments_lexer": "ipython3",
   "version": "3.6.5"
  }
 },
 "nbformat": 4,
 "nbformat_minor": 2
}
